{
 "cells": [
  {
   "cell_type": "code",
   "execution_count": 6,
   "metadata": {},
   "outputs": [
    {
     "ename": "ImportError",
     "evalue": "No module named grass.script",
     "output_type": "error",
     "traceback": [
      "\u001b[0;31m---------------------------------------------------------------------------\u001b[0m",
      "\u001b[0;31mImportError\u001b[0m                               Traceback (most recent call last)",
      "\u001b[0;32m<ipython-input-6-822beee10592>\u001b[0m in \u001b[0;36m<module>\u001b[0;34m()\u001b[0m\n\u001b[1;32m      5\u001b[0m \u001b[0;34m\u001b[0m\u001b[0m\n\u001b[1;32m      6\u001b[0m \u001b[0;31m# import (some) GRASS Python bindings\u001b[0m\u001b[0;34m\u001b[0m\u001b[0;34m\u001b[0m\u001b[0m\n\u001b[0;32m----> 7\u001b[0;31m \u001b[0;32mimport\u001b[0m \u001b[0mgrass\u001b[0m\u001b[0;34m.\u001b[0m\u001b[0mscript\u001b[0m \u001b[0;32mas\u001b[0m \u001b[0mgscript\u001b[0m\u001b[0;34m\u001b[0m\u001b[0m\n\u001b[0m\u001b[1;32m      8\u001b[0m \u001b[0;32mimport\u001b[0m \u001b[0mgrass\u001b[0m\u001b[0;34m.\u001b[0m\u001b[0mscript\u001b[0m\u001b[0;34m.\u001b[0m\u001b[0msetup\u001b[0m \u001b[0;32mas\u001b[0m \u001b[0mgsetup\u001b[0m\u001b[0;34m\u001b[0m\u001b[0m\n\u001b[1;32m      9\u001b[0m \u001b[0;34m\u001b[0m\u001b[0m\n",
      "\u001b[0;31mImportError\u001b[0m: No module named grass.script"
     ]
    }
   ],
   "source": [
    "import sys\n",
    "import os\n",
    "import sys\n",
    "import subprocess\n",
    "\n",
    "# import (some) GRASS Python bindings\n",
    "import grass.script as gscript\n",
    "import grass.script.setup as gsetup\n",
    "#https://grass.osgeo.org/grass77/manuals/libpython/script.html\n",
    "sys.version"
   ]
  },
  {
   "cell_type": "code",
   "execution_count": 2,
   "metadata": {},
   "outputs": [
    {
     "name": "stdout",
     "output_type": "stream",
     "text": [
      "env: GISBASE=\"/usr/lib/grass74\"\n",
      "env: PYTHONPATH=\"${PYTHONPATH}:$GISBASE/etc/python/\"\n",
      "env: LD_LIBRARY_PATH=\"$LD_LIBRARY_PATH:$GISBASE/lib\"\n",
      "env: GIS_LOCK=$$\n",
      "env: GISRC=\"/path_to/.grass7/rc\"\n"
     ]
    }
   ],
   "source": [
    "%env GISBASE=\"/usr/lib/grass74\"\n",
    "%env PYTHONPATH=\"${PYTHONPATH}:$GISBASE/etc/python/\"\n",
    "%env LD_LIBRARY_PATH=\"$LD_LIBRARY_PATH:$GISBASE/lib\"\n",
    "%env GIS_LOCK=$$\n",
    "%env GISRC=\"/path_to/.grass7/rc\""
   ]
  },
  {
   "cell_type": "code",
   "execution_count": 2,
   "metadata": {},
   "outputs": [
    {
     "data": {
      "text/plain": [
       "{'LC_NUMERIC': 'nl_NL.UTF-8', 'CONDA_PYTHON_EXE': '/home/diederik/anaconda3/bin/python', 'QT4_IM_MODULE': 'xim', 'GJS_DEBUG_OUTPUT': 'stderr', 'WINDOWPATH': '2', 'XDG_CURRENT_DESKTOP': 'ubuntu:GNOME', 'LC_PAPER': 'nl_NL.UTF-8', 'QT_IM_MODULE': 'ibus', 'LOGNAME': 'diederik', 'USER': 'diederik', 'PATH': '/home/diederik/anaconda3/envs/my_python-2.7-env/bin:/home/diederik/anaconda3/envs/my_python-2.7-env/bin:/home/diederik/anaconda3/bin:/usr/local/sbin:/usr/local/bin:/usr/sbin:/usr/bin:/sbin:/bin:/usr/games:/usr/local/games:/snap/bin', 'XDG_VTNR': '2', 'HOME': '/home/diederik', 'CLICOLOR': '1', 'DISPLAY': ':0', 'SSH_AGENT_PID': '3061', 'LANG': 'en_US.UTF-8', 'CONDA_SHLVL': '1', 'SHELL': '/bin/bash', 'XAUTHORITY': '/run/user/1000/gdm/Xauthority', 'SESSION_MANAGER': 'local/diederik-TECRA-Z50-A:@/tmp/.ICE-unix/2965,unix/diederik-TECRA-Z50-A:/tmp/.ICE-unix/2965', 'LC_MEASUREMENT': 'nl_NL.UTF-8', 'MANDATORY_PATH': '/usr/share/gconf/ubuntu.mandatory.path', 'CONDA_PREFIX': '/home/diederik/anaconda3/envs/my_python-2.7-env', 'QT_ACCESSIBILITY': '1', 'GNOME_DESKTOP_SESSION_ID': 'this-is-deprecated', 'CLUTTER_IM_MODULE': 'xim', 'TEXTDOMAIN': 'im-config', 'GNOME_TERMINAL_SERVICE': ':1.93', 'CONDA_DEFAULT_ENV': 'my_python-2.7-env', 'XMODIFIERS': '@im=ibus', 'GPG_AGENT_INFO': '/run/user/1000/gnupg/S.gpg-agent:0:1', 'USERNAME': 'diederik', 'XDG_SESSION_DESKTOP': 'ubuntu', 'SHLVL': '1', 'XDG_RUNTIME_DIR': '/run/user/1000', 'JPY_PARENT_PID': '13234', 'GTK_IM_MODULE': 'ibus', 'LC_ADDRESS': 'nl_NL.UTF-8', 'SSH_AUTH_SOCK': '/run/user/1000/keyring/ssh', 'TERM': 'xterm-color', 'CONDA_PROMPT_MODIFIER': '(my_python-2.7-env) ', 'GDMSESSION': 'ubuntu', 'IM_CONFIG_PHASE': '2', 'TEXTDOMAINDIR': '/usr/share/locale/', 'GNOME_SHELL_SESSION_MODE': 'ubuntu', 'GIT_PAGER': 'cat', 'XDG_DATA_DIRS': '/usr/share/ubuntu:/usr/local/share:/usr/share:/var/lib/snapd/desktop', 'XDG_CONFIG_DIRS': '/etc/xdg/xdg-ubuntu:/etc/xdg', 'LESSOPEN': '| /usr/bin/lesspipe %s', 'XDG_SESSION_ID': '2', 'DBUS_SESSION_BUS_ADDRESS': 'unix:path=/run/user/1000/bus', '_': '/home/diederik/anaconda3/envs/my_python-2.7-env/bin/jupyter', 'GTK_MODULES': 'gail:atk-bridge', 'LC_IDENTIFICATION': 'nl_NL.UTF-8', 'DESKTOP_SESSION': 'ubuntu', 'LESSCLOSE': '/usr/bin/lesspipe %s %s', 'DEFAULTS_PATH': '/usr/share/gconf/ubuntu.default.path', 'VTE_VERSION': '5202', 'XDG_SESSION_TYPE': 'x11', 'XDG_SEAT': 'seat0', 'MPLBACKEND': 'module://ipykernel.pylab.backend_inline', 'LC_TELEPHONE': 'nl_NL.UTF-8', 'GJS_DEBUG_TOPICS': 'JS ERROR;JS LOG', 'LC_MONETARY': 'nl_NL.UTF-8', 'PWD': '/home/diederik/ams/pyprojects/distance_matrix_datapipeline', 'COLORTERM': 'truecolor', 'LC_NAME': 'nl_NL.UTF-8', 'XDG_MENU_PREFIX': 'gnome-', 'LC_TIME': 'nl_NL.UTF-8', 'LS_COLORS': 'rs=0:di=01;34:ln=01;36:mh=00:pi=40;33:so=01;35:do=01;35:bd=40;33;01:cd=40;33;01:or=40;31;01:mi=00:su=37;41:sg=30;43:ca=30;41:tw=30;42:ow=34;42:st=37;44:ex=01;32:*.tar=01;31:*.tgz=01;31:*.arc=01;31:*.arj=01;31:*.taz=01;31:*.lha=01;31:*.lz4=01;31:*.lzh=01;31:*.lzma=01;31:*.tlz=01;31:*.txz=01;31:*.tzo=01;31:*.t7z=01;31:*.zip=01;31:*.z=01;31:*.Z=01;31:*.dz=01;31:*.gz=01;31:*.lrz=01;31:*.lz=01;31:*.lzo=01;31:*.xz=01;31:*.zst=01;31:*.tzst=01;31:*.bz2=01;31:*.bz=01;31:*.tbz=01;31:*.tbz2=01;31:*.tz=01;31:*.deb=01;31:*.rpm=01;31:*.jar=01;31:*.war=01;31:*.ear=01;31:*.sar=01;31:*.rar=01;31:*.alz=01;31:*.ace=01;31:*.zoo=01;31:*.cpio=01;31:*.7z=01;31:*.rz=01;31:*.cab=01;31:*.wim=01;31:*.swm=01;31:*.dwm=01;31:*.esd=01;31:*.jpg=01;35:*.jpeg=01;35:*.mjpg=01;35:*.mjpeg=01;35:*.gif=01;35:*.bmp=01;35:*.pbm=01;35:*.pgm=01;35:*.ppm=01;35:*.tga=01;35:*.xbm=01;35:*.xpm=01;35:*.tif=01;35:*.tiff=01;35:*.png=01;35:*.svg=01;35:*.svgz=01;35:*.mng=01;35:*.pcx=01;35:*.mov=01;35:*.mpg=01;35:*.mpeg=01;35:*.m2v=01;35:*.mkv=01;35:*.webm=01;35:*.ogm=01;35:*.mp4=01;35:*.m4v=01;35:*.mp4v=01;35:*.vob=01;35:*.qt=01;35:*.nuv=01;35:*.wmv=01;35:*.asf=01;35:*.rm=01;35:*.rmvb=01;35:*.flc=01;35:*.avi=01;35:*.fli=01;35:*.flv=01;35:*.gl=01;35:*.dl=01;35:*.xcf=01;35:*.xwd=01;35:*.yuv=01;35:*.cgm=01;35:*.emf=01;35:*.ogv=01;35:*.ogx=01;35:*.aac=00;36:*.au=00;36:*.flac=00;36:*.m4a=00;36:*.mid=00;36:*.midi=00;36:*.mka=00;36:*.mp3=00;36:*.mpc=00;36:*.ogg=00;36:*.ra=00;36:*.wav=00;36:*.oga=00;36:*.opus=00;36:*.spx=00;36:*.xspf=00;36:', 'PAGER': 'cat', 'CONDA_EXE': '/home/diederik/anaconda3/bin/conda', 'GNOME_TERMINAL_SCREEN': '/org/gnome/Terminal/screen/6aa2a46d_53f5_48c2_a99e_75fcedd5ea6b'}"
      ]
     },
     "execution_count": 2,
     "metadata": {},
     "output_type": "execute_result"
    }
   ],
   "source": [
    "os.environ"
   ]
  },
  {
   "cell_type": "code",
   "execution_count": null,
   "metadata": {},
   "outputs": [],
   "source": [
    "## grass data\n",
    "grass_data = '/home/diederik/grassdata'\n",
    "\n",
    "## "
   ]
  },
  {
   "cell_type": "code",
   "execution_count": 4,
   "metadata": {},
   "outputs": [
    {
     "name": "stderr",
     "output_type": "stream",
     "text": [
      "No traceback available to show.\n"
     ]
    }
   ],
   "source": [
    "%tb import pygrass_environment_setup_python2"
   ]
  },
  {
   "cell_type": "code",
   "execution_count": 7,
   "metadata": {},
   "outputs": [
    {
     "data": {
      "text/plain": [
       "'\\n'"
      ]
     },
     "execution_count": 7,
     "metadata": {},
     "output_type": "execute_result"
    }
   ],
   "source": [
    "os.linesep"
   ]
  },
  {
   "cell_type": "code",
   "execution_count": 5,
   "metadata": {},
   "outputs": [
    {
     "data": {
      "text/plain": [
       "'linux2'"
      ]
     },
     "execution_count": 5,
     "metadata": {},
     "output_type": "execute_result"
    }
   ],
   "source": [
    "sys.platform"
   ]
  },
  {
   "cell_type": "code",
   "execution_count": 3,
   "metadata": {},
   "outputs": [
    {
     "ename": "SystemExit",
     "evalue": "ERROR: Issues running GRASS GIS start script grass74 --config path: ERROR: Please install the GRASS GIS development package\nExiting...\n",
     "output_type": "error",
     "traceback": [
      "An exception has occurred, use %tb to see the full traceback.\n",
      "\u001b[0;31mSystemExit\u001b[0m\u001b[0;31m:\u001b[0m ERROR: Issues running GRASS GIS start script grass74 --config path: ERROR: Please install the GRASS GIS development package\nExiting...\n\n"
     ]
    },
    {
     "name": "stderr",
     "output_type": "stream",
     "text": [
      "/home/diederik/anaconda3/envs/my_python-2.7-env/lib/python2.7/site-packages/IPython/core/interactiveshell.py:2886: UserWarning: To exit: use 'exit', 'quit', or Ctrl-D.\n",
      "  warn(\"To exit: use 'exit', 'quit', or Ctrl-D.\", stacklevel=1)\n"
     ]
    }
   ],
   "source": [
    "# define GRASS Database\n",
    "# add your path to grassdata (GRASS GIS database) directory\n",
    "gisdb = \"/home/diederik/grassdata\"\n",
    "# gisdb = os.path.join(os.path.expanduser(\"~\"), \"grassdata\")\n",
    "# the following path is the default path on MS Windows\n",
    "# gisdb = os.path.join(os.path.expanduser(\"~\"), \"Documents/grassdata\")\n",
    "\n",
    "# specify (existing) Location and Mapset\n",
    "location = \"amsterdam\"\n",
    "mapset = \"netwerk\"\n",
    "\n",
    "# path to the GRASS GIS launch script\n",
    "# we assume that the GRASS GIS start script is available and on PATH\n",
    "# query GRASS itself for its GISBASE\n",
    "# (with fixes for specific platforms)\n",
    "# needs to be edited by the user\n",
    "grass7bin = 'grass74'\n",
    "if sys.platform.startswith('win'):\n",
    "    # MS Windows\n",
    "    grass7bin = r'C:\\OSGeo4Win\\grass72.bat'\n",
    "    # uncomment when using standalone WinGRASS installer\n",
    "    # grass7bin = r'C:\\Program Files (x86)\\GRASS GIS 7.2.0\\grass72.bat'\n",
    "    # this can be avoided if GRASS executable is added to PATH\n",
    "elif sys.platform == 'darwin':\n",
    "    # Mac OS X\n",
    "    # TODO: this have to be checked, maybe unix way is good enough\n",
    "    grass7bin = '/Applications/GRASS/GRASS-7.2.app/'\n",
    "\n",
    "# query GRASS GIS itself for its GISBASE\n",
    "startcmd = [grass7bin, '--config', 'path']\n",
    "try:\n",
    "    p = subprocess.Popen(startcmd, shell=False,\n",
    "                         stdout=subprocess.PIPE, stderr=subprocess.PIPE)\n",
    "    out, err = p.communicate()\n",
    "except OSError as error:\n",
    "    \n",
    "    sys.exit(\"ERROR: Cannot find GRASS GIS start script\"\n",
    "             \" {cmd}: {error}\".format(cmd=startcmd[0], error=error))\n",
    "\n",
    "if p.returncode != 0:\n",
    "    sys.exit(\"ERROR: Issues running GRASS GIS start script\"\n",
    "             \" {cmd}: {error}\"\n",
    "             .format(cmd=' '.join(startcmd), error=err))\n",
    "\n",
    "if \"GISBASE\" not in os.environ:\n",
    "    print \"You must export GISBASE env variable to run this program.\"\n",
    "    sys.exit(1)\n",
    "    \n",
    "gisbase = out.strip(os.linesep)\n",
    "\n",
    "# set GISBASE environment variable\n",
    "os.environ['GISBASE'] = gisbase\n",
    "\n",
    "# define GRASS-Python environment\n",
    "grass_pydir = os.path.join(gisbase, \"etc\", \"python\")\n",
    "sys.path.append(grass_pydir)\n",
    "\n",
    "# launch session\n",
    "rcfile = gsetup.init(gisbase, gisdb, location, mapset)\n",
    "\n",
    "# example calls\n",
    "gscript.message('Current GRASS GIS 7 environment:')\n",
    "print (gscript.gisenv())\n",
    "\n",
    "gscript.message('Available raster maps:')\n",
    "for rast in gscript.list_strings(type='raster'):\n",
    "    print (rast)\n",
    "\n",
    "gscript.message('Available vector maps:')\n",
    "for vect in gscript.list_strings(type='vector'):\n",
    "    print (vect)\n",
    "\n",
    "# delete the rcfile"
   ]
  }
 ],
 "metadata": {
  "kernelspec": {
   "display_name": "my_python-2.7",
   "language": "python",
   "name": "my_python-2.7"
  },
  "language_info": {
   "codemirror_mode": {
    "name": "ipython",
    "version": 2
   },
   "file_extension": ".py",
   "mimetype": "text/x-python",
   "name": "python",
   "nbconvert_exporter": "python",
   "pygments_lexer": "ipython2",
   "version": "2.7.15"
  }
 },
 "nbformat": 4,
 "nbformat_minor": 2
}
