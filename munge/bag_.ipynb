{
 "cells": [
  {
   "cell_type": "code",
   "execution_count": 1,
   "metadata": {},
   "outputs": [],
   "source": [
    "%matplotlib inline\n",
    "import time\n",
    "import sys\n",
    "import psycopg2\n",
    "import pandas as pd\n",
    "import pandas.io.sql as psql\n",
    "pd.set_option('display.max_columns', 100)\n",
    "import geopandas as gp\n",
    "import numpy as np\n",
    "import matplotlib.pyplot as plt\n",
    "from shapely.geometry import LineString, Point, MultiLineString\n",
    "from shapely import wkt\n",
    "\n",
    "# ingest path to helper functions\n",
    "sys.path.insert(0, '../helper_functions/')\n",
    "from config_postgresql import config, postgres_engine_pandas\n",
    "\n",
    "PATH_TO_DATA = '../data/'"
   ]
  },
  {
   "cell_type": "code",
   "execution_count": 2,
   "metadata": {},
   "outputs": [],
   "source": [
    "BAG_QUERY = \"\"\"SELECT * FROM osm.stag_vot_cluster\"\"\"\n",
    "BAG_CLUSTER_QUERY = \"\"\"SELECT * FROM osm.stag_vot_clusters_grass\"\"\"\n",
    "AH_QUERY = \"\"\"SELECT * FROM osm.stag_ah_vestigingen\"\"\"\n",
    "OBA_QUERY = \"\"\"SELECT * FROM osm.stag_oba_vestigingen\"\"\""
   ]
  },
  {
   "cell_type": "code",
   "execution_count": 3,
   "metadata": {},
   "outputs": [],
   "source": [
    "params = config()\n",
    "conn = psycopg2.connect(**params)"
   ]
  },
  {
   "cell_type": "code",
   "execution_count": 8,
   "metadata": {},
   "outputs": [],
   "source": [
    "bag = psql.read_sql_query(BAG_QUERY, conn)"
   ]
  },
  {
   "cell_type": "code",
   "execution_count": 12,
   "metadata": {},
   "outputs": [],
   "source": [
    "bag_cluster = psql.read_sql_query(BAG_CLUSTER_QUERY, conn)"
   ]
  },
  {
   "cell_type": "code",
   "execution_count": 13,
   "metadata": {},
   "outputs": [],
   "source": [
    "ah = psql.read_sql_query(AH_QUERY, conn)"
   ]
  },
  {
   "cell_type": "code",
   "execution_count": 4,
   "metadata": {},
   "outputs": [],
   "source": [
    "oba = psql.read_sql_query(OBA_QUERY, conn)"
   ]
  },
  {
   "cell_type": "markdown",
   "metadata": {},
   "source": [
    "### write to csv"
   ]
  },
  {
   "cell_type": "code",
   "execution_count": 11,
   "metadata": {},
   "outputs": [],
   "source": [
    "bag.to_csv(PATH_TO_DATA + 'bag_full.csv', index=False)"
   ]
  },
  {
   "cell_type": "code",
   "execution_count": 14,
   "metadata": {},
   "outputs": [],
   "source": [
    "bag_cluster.to_csv(PATH_TO_DATA + 'bag_cluster.csv', index=False)"
   ]
  },
  {
   "cell_type": "code",
   "execution_count": 15,
   "metadata": {},
   "outputs": [],
   "source": [
    "ah.to_csv(PATH_TO_DATA + 'ah_vestigingen.csv', index=False)"
   ]
  },
  {
   "cell_type": "code",
   "execution_count": 8,
   "metadata": {},
   "outputs": [],
   "source": [
    "oba.to_csv(PATH_TO_DATA + 'oba_vestigingen.csv', index=False)"
   ]
  }
 ],
 "metadata": {
  "kernelspec": {
   "display_name": "Python 3",
   "language": "python",
   "name": "python3"
  },
  "language_info": {
   "codemirror_mode": {
    "name": "ipython",
    "version": 3
   },
   "file_extension": ".py",
   "mimetype": "text/x-python",
   "name": "python",
   "nbconvert_exporter": "python",
   "pygments_lexer": "ipython3",
   "version": "3.6.4"
  }
 },
 "nbformat": 4,
 "nbformat_minor": 2
}
