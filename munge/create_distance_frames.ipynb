{
 "cells": [
  {
   "cell_type": "markdown",
   "metadata": {},
   "source": [
    "-\tAfstanden verblijfsobjecten met een woonfunctie (inclusief onderscheid huur en koop) naar afvalcontainers \n",
    "-\tAfstanden verblijfsobjecten met een woonfunctie (verrijkt met BRP leeftijdscategorie 65+ plussers) naar afvalcontainers (BAG/BRP koppeling) \n",
    "-\tAfstanden verblijfsobjecten met een woonfunctie (verrijkt met BRP leeftijdscategorie <=18 jaar) naar bibliotheken (BAG/BRP koppeling)\n",
    "-\tAfstanden verblijfsobjecten met een woonfunctie naar vestigingen supermarkten (zeg AH) \n"
   ]
  },
  {
   "cell_type": "code",
   "execution_count": 17,
   "metadata": {},
   "outputs": [
    {
     "name": "stdout",
     "output_type": "stream",
     "text": [
      "sections in YAML : path\n",
      "sections in YAML : file\n",
      "sections in YAML : file_stag_tables\n",
      "sections in YAML : distance_matrix_files\n",
      "sections in YAML : crs\n",
      "sections in YAML : afvalcontainers\n",
      "sections in YAML : dbscan_afvalcontainers\n",
      "sections in YAML : dbscan_vot\n",
      "sections in YAML : normen\n"
     ]
    }
   ],
   "source": [
    "%matplotlib inline\n",
    "import matplotlib.pyplot as plt\n",
    "import pandas as pd\n",
    "pd.set_option('display.max_columns', 100)\n",
    "import numpy as np\n",
    "import geopandas as gpd\n",
    "import shapely.speedups\n",
    "shapely.speedups.enable()\n",
    "from shapely import wkt, wkb\n",
    "from shapely.geometry import Polygon, Point, LinearRing, MultiPoint\n",
    "from shapely.ops import nearest_points\n",
    "from tqdm import tqdm, tqdm_notebook\n",
    "\n",
    "#helper functions\n",
    "import sys\n",
    "sys.path.insert(0, '../helper_functions/')\n",
    "import wfs_processing as wfs\n",
    "import get_tables as get\n",
    "import distance_matrix as dm\n",
    "from logger_settings import logger\n",
    "logger = logger()\n",
    "\n",
    "import yaml\n",
    "with open(\"../config.yaml\", 'r') as config_yml:\n",
    "    try:\n",
    "        yml = yaml.load(config_yml)\n",
    "        for section in yml:\n",
    "            print('sections in YAML : {}'.format(section))\n",
    "    except yaml.YAMLError as exc:\n",
    "        print (exc)\n",
    "\n",
    "# interactive dropdown\n",
    "import ipywidgets as widgets\n",
    "fractie_choice = widgets.Dropdown(options=yml['afvalcontainers']['fracties'], value=None)"
   ]
  },
  {
   "cell_type": "code",
   "execution_count": 143,
   "metadata": {},
   "outputs": [
    {
     "data": {
      "text/plain": [
       "<module 'distance_matrix' from '../helper_functions/distance_matrix.py'>"
      ]
     },
     "execution_count": 143,
     "metadata": {},
     "output_type": "execute_result"
    }
   ],
   "source": [
    "import importlib\n",
    "importlib.reload(dm)"
   ]
  },
  {
   "cell_type": "markdown",
   "metadata": {},
   "source": [
    "### loading poi tables"
   ]
  },
  {
   "cell_type": "code",
   "execution_count": 132,
   "metadata": {},
   "outputs": [
    {
     "name": "stdout",
     "output_type": "stream",
     "text": [
      "[14/Sep/2018 14:09:12] INFO - GeoDataFrame has shape: (64094, 9) and crs: {'init': 'epsg:28992'}\n"
     ]
    }
   ],
   "source": [
    "poi1 = get.get_stag_table_koop()"
   ]
  },
  {
   "cell_type": "code",
   "execution_count": 3,
   "metadata": {
    "scrolled": true
   },
   "outputs": [
    {
     "name": "stderr",
     "output_type": "stream",
     "text": [
      "Fri, 14 Sep 2018 09:28:20 INFO     Clustered 12,293 afvalcontainers down to 5,596 inzamellocaties, for 54.48% compression in 8.34 sec.\n",
      "Fri, 14 Sep 2018 09:28:20 INFO     Clustered GeoDataFrame has shape: (5596, 5) and crs: {'init': 'epsg:28992'}\n"
     ]
    }
   ],
   "source": [
    "poi2 = get.get_afvalcontainers_df(column_subset=True, dbscan_clustering=True)"
   ]
  },
  {
   "cell_type": "code",
   "execution_count": 91,
   "metadata": {},
   "outputs": [
    {
     "name": "stdout",
     "output_type": "stream",
     "text": [
      "Choice your fractie\n"
     ]
    },
    {
     "data": {
      "application/vnd.jupyter.widget-view+json": {
       "model_id": "27fe7889d87e4fdfb78e5064e951c39a",
       "version_major": 2,
       "version_minor": 0
      },
      "text/html": [
       "<p>Failed to display Jupyter Widget of type <code>Dropdown</code>.</p>\n",
       "<p>\n",
       "  If you're reading this message in the Jupyter Notebook or JupyterLab Notebook, it may mean\n",
       "  that the widgets JavaScript is still loading. If this message persists, it\n",
       "  likely means that the widgets JavaScript library is either not installed or\n",
       "  not enabled. See the <a href=\"https://ipywidgets.readthedocs.io/en/stable/user_install.html\">Jupyter\n",
       "  Widgets Documentation</a> for setup instructions.\n",
       "</p>\n",
       "<p>\n",
       "  If you're reading this message in another frontend (for example, a static\n",
       "  rendering on GitHub or <a href=\"https://nbviewer.jupyter.org/\">NBViewer</a>),\n",
       "  it may mean that your frontend doesn't currently support widgets.\n",
       "</p>\n"
      ],
      "text/plain": [
       "Dropdown(options=('Rest', 'Papier', 'Glas', 'Plastic', 'Textiel'), value=None)"
      ]
     },
     "metadata": {},
     "output_type": "display_data"
    }
   ],
   "source": [
    "print ('Choice your fractie')\n",
    "fractie_choice"
   ]
  },
  {
   "cell_type": "code",
   "execution_count": 159,
   "metadata": {},
   "outputs": [
    {
     "name": "stdout",
     "output_type": "stream",
     "text": [
      "fractie: Textiel\n",
      "buffer: 1500\n",
      "bovengrens: 1501\n"
     ]
    }
   ],
   "source": [
    "fractie = fractie_choice.value \n",
    "buffer = yml['normen'][fractie]['kritiek_start']\n",
    "bovengrens = yml['normen'][fractie]['bovengrens'] # value not according to distance norm\n",
    "\n",
    "print ('fractie: {}'.format(fractie))\n",
    "print ('buffer: {}'.format(buffer))\n",
    "print ('bovengrens: {}'.format(bovengrens))"
   ]
  },
  {
   "cell_type": "code",
   "execution_count": 160,
   "metadata": {},
   "outputs": [
    {
     "name": "stdout",
     "output_type": "stream",
     "text": [
      "[14/Sep/2018 15:42:47] INFO - Building dm (fractie: Textiel, buffer: 1500 with 5596 iterations\n"
     ]
    },
    {
     "data": {
      "application/vnd.jupyter.widget-view+json": {
       "model_id": "c192c64af26f4189ab2c74eec8f430e1",
       "version_major": 2,
       "version_minor": 0
      },
      "text/html": [
       "<p>Failed to display Jupyter Widget of type <code>HBox</code>.</p>\n",
       "<p>\n",
       "  If you're reading this message in the Jupyter Notebook or JupyterLab Notebook, it may mean\n",
       "  that the widgets JavaScript is still loading. If this message persists, it\n",
       "  likely means that the widgets JavaScript library is either not installed or\n",
       "  not enabled. See the <a href=\"https://ipywidgets.readthedocs.io/en/stable/user_install.html\">Jupyter\n",
       "  Widgets Documentation</a> for setup instructions.\n",
       "</p>\n",
       "<p>\n",
       "  If you're reading this message in another frontend (for example, a static\n",
       "  rendering on GitHub or <a href=\"https://nbviewer.jupyter.org/\">NBViewer</a>),\n",
       "  it may mean that your frontend doesn't currently support widgets.\n",
       "</p>\n"
      ],
      "text/plain": [
       "HBox(children=(IntProgress(value=0, max=165), HTML(value='')))"
      ]
     },
     "metadata": {},
     "output_type": "display_data"
    },
    {
     "name": "stdout",
     "output_type": "stream",
     "text": [
      "Shape sub_df 0 = (6269, 10)\n",
      "Shape sub_df 1 = (6072, 10)\n",
      "Shape sub_df 2 = (3709, 10)\n",
      "Shape sub_df 3 = (7944, 10)\n",
      "Shape sub_df 4 = (5382, 10)\n",
      "Shape sub_df 5 = (4415, 10)\n",
      "Shape sub_df 6 = (9461, 10)\n",
      "Shape sub_df 7 = (4633, 10)\n",
      "Shape sub_df 8 = (7794, 10)\n",
      "Shape sub_df 9 = (3388, 10)\n",
      "Shape sub_df 10 = (2949, 10)\n",
      "Shape sub_df 11 = (3545, 10)\n",
      "Shape sub_df 12 = (7949, 10)\n",
      "Shape sub_df 13 = (7987, 10)\n",
      "Shape sub_df 14 = (2005, 10)\n",
      "Shape sub_df 15 = (3851, 10)\n",
      "Shape sub_df 16 = (3535, 10)\n",
      "Shape sub_df 17 = (4001, 10)\n",
      "Shape sub_df 18 = (3163, 10)\n",
      "Shape sub_df 19 = (3106, 10)\n",
      "Shape sub_df 20 = (7964, 10)\n",
      "Shape sub_df 21 = (3506, 10)\n",
      "Shape sub_df 22 = (2023, 10)\n",
      "Shape sub_df 23 = (7077, 10)\n",
      "Shape sub_df 24 = (3170, 10)\n",
      "Shape sub_df 25 = (2125, 10)\n",
      "Shape sub_df 26 = (6675, 10)\n",
      "Shape sub_df 27 = (4296, 10)\n",
      "Shape sub_df 28 = (2529, 10)\n",
      "Shape sub_df 29 = (1349, 10)\n",
      "Shape sub_df 30 = (4031, 10)\n",
      "Shape sub_df 31 = (6725, 10)\n",
      "Shape sub_df 32 = (8847, 10)\n",
      "Shape sub_df 33 = (4007, 10)\n",
      "Shape sub_df 34 = (6636, 10)\n",
      "Shape sub_df 35 = (4912, 10)\n",
      "Shape sub_df 36 = (7572, 10)\n",
      "Shape sub_df 37 = (7166, 10)\n",
      "Shape sub_df 38 = (7001, 10)\n",
      "Shape sub_df 39 = (3847, 10)\n",
      "Shape sub_df 40 = (9471, 10)\n",
      "Shape sub_df 41 = (8620, 10)\n",
      "Shape sub_df 42 = (4887, 10)\n",
      "Shape sub_df 43 = (4564, 10)\n",
      "Shape sub_df 44 = (8697, 10)\n",
      "Shape sub_df 45 = (4440, 10)\n",
      "Shape sub_df 46 = (691, 10)\n",
      "Shape sub_df 47 = (7865, 10)\n",
      "Shape sub_df 48 = (2341, 10)\n",
      "Shape sub_df 49 = (2083, 10)\n",
      "Shape sub_df 50 = (4392, 10)\n",
      "Shape sub_df 51 = (3602, 10)\n",
      "Shape sub_df 52 = (5041, 10)\n",
      "Shape sub_df 53 = (1668, 10)\n",
      "Shape sub_df 54 = (8670, 10)\n",
      "Shape sub_df 55 = (4795, 10)\n",
      "Shape sub_df 56 = (1976, 10)\n",
      "Shape sub_df 57 = (5014, 10)\n",
      "Shape sub_df 58 = (2161, 10)\n",
      "Shape sub_df 59 = (2318, 10)\n",
      "Shape sub_df 60 = (3957, 10)\n",
      "Shape sub_df 61 = (2332, 10)\n",
      "Shape sub_df 62 = (1616, 10)\n",
      "Shape sub_df 63 = (3694, 10)\n",
      "Shape sub_df 64 = (4798, 10)\n",
      "Shape sub_df 65 = (3306, 10)\n",
      "Shape sub_df 66 = (4925, 10)\n",
      "Shape sub_df 67 = (8196, 10)\n",
      "Shape sub_df 68 = (7376, 10)\n",
      "Shape sub_df 69 = (3287, 10)\n",
      "Shape sub_df 70 = (2235, 10)\n",
      "Shape sub_df 71 = (4247, 10)\n",
      "Shape sub_df 72 = (2221, 10)\n",
      "Shape sub_df 73 = (5834, 10)\n",
      "Shape sub_df 74 = (6676, 10)\n",
      "Shape sub_df 75 = (5065, 10)\n",
      "Shape sub_df 76 = (2415, 10)\n",
      "Shape sub_df 77 = (5712, 10)\n",
      "Shape sub_df 78 = (6481, 10)\n",
      "Shape sub_df 79 = (5784, 10)\n",
      "Shape sub_df 80 = (3044, 10)\n",
      "Shape sub_df 81 = (3537, 10)\n",
      "Shape sub_df 82 = (2970, 10)\n",
      "Shape sub_df 83 = (3321, 10)\n",
      "Shape sub_df 84 = (2141, 10)\n",
      "Shape sub_df 85 = (9406, 10)\n",
      "Shape sub_df 86 = (4653, 10)\n",
      "Shape sub_df 87 = (4738, 10)\n",
      "Shape sub_df 88 = (5274, 10)\n",
      "Shape sub_df 89 = (2479, 10)\n",
      "Shape sub_df 90 = (3510, 10)\n",
      "Shape sub_df 91 = (4371, 10)\n",
      "Shape sub_df 92 = (3285, 10)\n",
      "Shape sub_df 93 = (1835, 10)\n",
      "Shape sub_df 94 = (2431, 10)\n",
      "Shape sub_df 95 = (2857, 10)\n",
      "Shape sub_df 96 = (4584, 10)\n",
      "Shape sub_df 97 = (8427, 10)\n",
      "Shape sub_df 98 = (3140, 10)\n",
      "Shape sub_df 99 = (7476, 10)\n",
      "Shape sub_df 100 = (2911, 10)\n",
      "Shape sub_df 101 = (5691, 10)\n",
      "Shape sub_df 102 = (3527, 10)\n",
      "Shape sub_df 103 = (2953, 10)\n",
      "Shape sub_df 104 = (2044, 10)\n",
      "Shape sub_df 105 = (2892, 10)\n",
      "Shape sub_df 106 = (2083, 10)\n",
      "Shape sub_df 107 = (2338, 10)\n",
      "Shape sub_df 108 = (2932, 10)\n",
      "Shape sub_df 109 = (3106, 10)\n",
      "Shape sub_df 110 = (3099, 10)\n",
      "Shape sub_df 111 = (8413, 10)\n",
      "Shape sub_df 112 = (684, 10)\n",
      "Shape sub_df 113 = (6655, 10)\n",
      "Shape sub_df 114 = (5580, 10)\n",
      "Shape sub_df 115 = (5494, 10)\n",
      "Shape sub_df 116 = (8158, 10)\n",
      "Shape sub_df 117 = (1061, 10)\n",
      "Shape sub_df 118 = (6671, 10)\n",
      "Shape sub_df 119 = (5324, 10)\n",
      "Shape sub_df 120 = (7351, 10)\n",
      "Shape sub_df 121 = (5717, 10)\n",
      "Shape sub_df 122 = (8991, 10)\n",
      "Shape sub_df 123 = (6696, 10)\n",
      "Shape sub_df 124 = (3523, 10)\n",
      "Shape sub_df 125 = (2457, 10)\n",
      "Shape sub_df 126 = (3049, 10)\n",
      "Shape sub_df 127 = (2839, 10)\n",
      "Shape sub_df 128 = (2597, 10)\n",
      "Shape sub_df 129 = (2698, 10)\n",
      "Shape sub_df 130 = (4813, 10)\n",
      "Shape sub_df 131 = (2191, 10)\n",
      "Shape sub_df 132 = (6332, 10)\n",
      "Shape sub_df 133 = (3042, 10)\n",
      "Shape sub_df 134 = (5870, 10)\n",
      "Shape sub_df 135 = (1656, 10)\n",
      "Shape sub_df 136 = (1571, 10)\n",
      "Shape sub_df 137 = (3934, 10)\n",
      "Shape sub_df 138 = (1139, 10)\n",
      "Shape sub_df 139 = (4976, 10)\n",
      "Shape sub_df 140 = (2290, 10)\n",
      "Shape sub_df 141 = (2611, 10)\n",
      "Shape sub_df 142 = (2080, 10)\n",
      "Shape sub_df 143 = (7180, 10)\n",
      "Shape sub_df 144 = (1840, 10)\n",
      "Shape sub_df 145 = (8753, 10)\n",
      "Shape sub_df 146 = (5507, 10)\n",
      "Shape sub_df 147 = (3658, 10)\n",
      "Shape sub_df 148 = (6080, 10)\n",
      "Shape sub_df 149 = (5072, 10)\n",
      "Shape sub_df 150 = (3238, 10)\n",
      "Shape sub_df 151 = (6822, 10)\n",
      "Shape sub_df 152 = (6855, 10)\n",
      "Shape sub_df 153 = (6544, 10)\n",
      "Shape sub_df 154 = (8350, 10)\n",
      "Shape sub_df 155 = (3160, 10)\n",
      "Shape sub_df 156 = (8126, 10)\n",
      "Shape sub_df 157 = (1795, 10)\n",
      "Shape sub_df 158 = (7720, 10)\n",
      "Shape sub_df 159 = (3064, 10)\n",
      "Shape sub_df 160 = (2043, 10)\n",
      "Shape sub_df 161 = (7707, 10)\n",
      "Shape sub_df 162 = (2019, 10)\n",
      "Shape sub_df 163 = (1597, 10)\n",
      "Shape sub_df 164 = (9428, 10)\n"
     ]
    }
   ],
   "source": [
    "stag_distance = dm.create_distance_matrix_afval(df1=poi1, df2=poi2, \n",
    "                                             fractie=fractie, \n",
    "                                             buffer = buffer, \n",
    "                                             include_nearest_point=False, \n",
    "                                             n=len(poi2))"
   ]
  },
  {
   "cell_type": "markdown",
   "metadata": {},
   "source": [
    "### Matrix needs deduplication\n",
    "\n",
    "The above create_distance_matrix_afval fucntion creates distance calculations within a buffer distance around the `poi2` object (afvalcontainers in this case). It can happen, and frequently does that a verblijfsobject is within a buffer of multiple afvalcontainers. We then deduplicate the matrix by choosing the minimal distance (in combination with some other clean-up steps."
   ]
  },
  {
   "cell_type": "code",
   "execution_count": 161,
   "metadata": {},
   "outputs": [
    {
     "name": "stdout",
     "output_type": "stream",
     "text": [
      "[14/Sep/2018 15:59:46] INFO - Raw dm has shape:(756145, 10)\n",
      "[14/Sep/2018 15:59:46] INFO - Aggregated dm has shape:(64094, 9)\n",
      "[14/Sep/2018 15:59:46] INFO - merge results:\n",
      "both          63029\n",
      "left_only      1065\n",
      "right_only        0\n",
      "Name: _merge, dtype: int64\n",
      "[14/Sep/2018 15:59:46] INFO - Filled values above the 1500 norm with bovengrens value: 1501\n",
      "[14/Sep/2018 15:59:47] INFO - Final dm has shape:(64094, 10)\n",
      "[14/Sep/2018 15:59:47] INFO - columns dm ['landelijk_vot_id', 'landelijk_pnd_id', 'geometry', 'geom_point', 'cluster_toewijzing', 'distance_min', 'distance_max', 'distance_mean', '_merge', 'pnd_dist_mean']\n",
      "histogram numerical distance columns: \n"
     ]
    },
    {
     "data": {
      "image/png": "[encoded data removed]",
      "text/plain": [
       "<Figure size 648x432 with 3 Axes>"
      ]
     },
     "metadata": {},
     "output_type": "display_data"
    }
   ],
   "source": [
    "final = dm.deduplicate_distance_matrix_afval(stag_distance, \n",
    "                                             df1=poi1, \n",
    "                                             buffer = buffer,\n",
    "                                             bovengrens=bovengrens)"
   ]
  },
  {
   "cell_type": "markdown",
   "metadata": {},
   "source": [
    "### to csv"
   ]
  },
  {
   "cell_type": "code",
   "execution_count": 162,
   "metadata": {},
   "outputs": [],
   "source": [
    "final.to_csv(yml['path']['distance_matrices'] + 'distance_koop_' + fractie + '.csv', index=False)"
   ]
  }
 ],
 "metadata": {
  "kernelspec": {
   "display_name": "Python 3",
   "language": "python",
   "name": "python3"
  },
  "language_info": {
   "codemirror_mode": {
    "name": "ipython",
    "version": 3
   },
   "file_extension": ".py",
   "mimetype": "text/x-python",
   "name": "python",
   "nbconvert_exporter": "python",
   "pygments_lexer": "ipython3",
   "version": "3.6.4"
  }
 },
 "nbformat": 4,
 "nbformat_minor": 2
}
