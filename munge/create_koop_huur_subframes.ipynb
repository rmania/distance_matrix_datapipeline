{
 "cells": [
  {
   "cell_type": "code",
   "execution_count": 66,
   "metadata": {},
   "outputs": [
    {
     "name": "stdout",
     "output_type": "stream",
     "text": [
      "sections in YAML : path\n",
      "sections in YAML : file\n",
      "sections in YAML : file_stag_tables\n",
      "sections in YAML : distance_matrix_files\n",
      "sections in YAML : crs\n",
      "sections in YAML : afvalcontainers\n",
      "sections in YAML : dbscan_afvalcontainers\n",
      "sections in YAML : dbscan_vot\n",
      "sections in YAML : normen\n",
      "sections in YAML : stadsdeel\n"
     ]
    }
   ],
   "source": [
    "import pandas as pd\n",
    "pd.set_option('display.max_columns', 100)\n",
    "import numpy as np\n",
    "import geopandas as gpd\n",
    "\n",
    "import sys\n",
    "sys.path.insert(0, '../helper_functions/')\n",
    "import get_tables as get\n",
    "\n",
    "import yaml\n",
    "with open(\"../config.yaml\", 'r') as config_yml:\n",
    "    try:\n",
    "        yml = yaml.load(config_yml)\n",
    "        for section in yml:\n",
    "            print('sections in YAML : {}'.format(section))\n",
    "    except yaml.YAMLError as exc:\n",
    "        print (exc)\n",
    "#path\n",
    "PATH_TO_PG_TEST = '../data/pg_test/'"
   ]
  },
  {
   "cell_type": "markdown",
   "metadata": {},
   "source": [
    "### load bag_full + bag_clusters"
   ]
  },
  {
   "cell_type": "code",
   "execution_count": 4,
   "metadata": {},
   "outputs": [
    {
     "name": "stderr",
     "output_type": "stream",
     "text": [
      "Tue, 18 Sep 2018 10:42:14 INFO     Loading bag_full.csv GeoDataFrame, with shape: (440646, 18) and crs: {'init': 'epsg:28992'}\n"
     ]
    }
   ],
   "source": [
    "keep_cols= ['landelijk_pnd_id', 'pnd_geom', 'cluster_toewijzing',\n",
    "           'koop_huur']\n",
    "\n",
    "bag_full = (get.get_df1(path = yml['path']['data_path_poi1'], \n",
    "                        bag_file=yml['file']['bag_full'], plot=False))"
   ]
  },
  {
   "cell_type": "code",
   "execution_count": 6,
   "metadata": {},
   "outputs": [
    {
     "name": "stderr",
     "output_type": "stream",
     "text": [
      "Tue, 18 Sep 2018 10:42:51 INFO     Loading bag_cluster.csv GeoDataFrame, with shape: (156055, 4) and crs: {'init': 'epsg:28992'}\n"
     ]
    }
   ],
   "source": [
    "bag_clusters = (get.get_df1(path = yml['path']['data_path_poi1'], \n",
    "                            bag_file=yml['file']['bag_clusters']))"
   ]
  },
  {
   "cell_type": "markdown",
   "metadata": {},
   "source": [
    "### create koop clusters set"
   ]
  },
  {
   "cell_type": "code",
   "execution_count": 43,
   "metadata": {},
   "outputs": [],
   "source": [
    "bag_koop = bag_full[keep_cols][(bag_full.koop_huur == 'Eigendom')]"
   ]
  },
  {
   "cell_type": "code",
   "execution_count": 45,
   "metadata": {},
   "outputs": [],
   "source": [
    "bag_koop_clusters = (pd.merge(bag_clusters, bag_koop, \n",
    "                              on= ['cluster_toewijzing'], how='inner'))\n",
    "bag_koop_clusters = (bag_koop_clusters.drop_duplicates(subset=['cluster_toewijzing']))\n",
    "print (bag_koop_clusters.shape)"
   ]
  },
  {
   "cell_type": "code",
   "execution_count": 59,
   "metadata": {},
   "outputs": [],
   "source": [
    "# write to stag_tables\n",
    "(bag_koop_clusters.to_csv(yml['path']['data_stag_tables'] \n",
    "                          + yml['file_stag_tables']['clusters_koop'], index=False))"
   ]
  },
  {
   "cell_type": "markdown",
   "metadata": {},
   "source": [
    "### create huur clusters set"
   ]
  },
  {
   "cell_type": "code",
   "execution_count": 61,
   "metadata": {},
   "outputs": [],
   "source": [
    "bag_huur = bag_full[keep_cols][(bag_full.koop_huur == 'Huur')]"
   ]
  },
  {
   "cell_type": "code",
   "execution_count": 62,
   "metadata": {},
   "outputs": [],
   "source": [
    "bag_huur_clusters = (pd.merge(bag_clusters, bag_huur, \n",
    "                              on= ['cluster_toewijzing'], how='inner'))\n",
    "bag_huur_clusters = (bag_huur_clusters.drop_duplicates(subset=['cluster_toewijzing']))\n",
    "print (bag_huur_clusters.shape)"
   ]
  },
  {
   "cell_type": "code",
   "execution_count": 64,
   "metadata": {},
   "outputs": [],
   "source": [
    "# write to stag_tables\n",
    "(bag_huur_clusters.to_csv(yml['path']['data_stag_tables'] \n",
    "                          + yml['file_stag_tables']['clusters_huur'], index=False))"
   ]
  },
  {
   "cell_type": "code",
   "execution_count": 68,
   "metadata": {},
   "outputs": [
    {
     "data": {
      "text/html": [
       "<div>\n",
       "<style scoped>\n",
       "    .dataframe tbody tr th:only-of-type {\n",
       "        vertical-align: middle;\n",
       "    }\n",
       "\n",
       "    .dataframe tbody tr th {\n",
       "        vertical-align: top;\n",
       "    }\n",
       "\n",
       "    .dataframe thead th {\n",
       "        text-align: right;\n",
       "    }\n",
       "</style>\n",
       "<table border=\"1\" class=\"dataframe\">\n",
       "  <thead>\n",
       "    <tr style=\"text-align: right;\">\n",
       "      <th></th>\n",
       "      <th>stadsdeel</th>\n",
       "      <th>cl_type</th>\n",
       "      <th>cluster_toewijzing</th>\n",
       "      <th>geometry</th>\n",
       "      <th>landelijk_pnd_id</th>\n",
       "      <th>pnd_geom</th>\n",
       "      <th>koop_huur</th>\n",
       "    </tr>\n",
       "  </thead>\n",
       "  <tbody>\n",
       "    <tr>\n",
       "      <th>0</th>\n",
       "      <td>Centrum</td>\n",
       "      <td>vot</td>\n",
       "      <td>0</td>\n",
       "      <td>POINT (120216.8333333333 487100.6666666667)</td>\n",
       "      <td>0363100012170729</td>\n",
       "      <td>POLYGON ((120221.70204345 487100.363979464, 12...</td>\n",
       "      <td>Eigendom</td>\n",
       "    </tr>\n",
       "    <tr>\n",
       "      <th>2</th>\n",
       "      <td>Centrum</td>\n",
       "      <td>vot</td>\n",
       "      <td>2</td>\n",
       "      <td>POINT (120954.5 486682.5)</td>\n",
       "      <td>0363100012171597</td>\n",
       "      <td>POLYGON ((120960.240970247 486682.588022385, 1...</td>\n",
       "      <td>Eigendom</td>\n",
       "    </tr>\n",
       "  </tbody>\n",
       "</table>\n",
       "</div>"
      ],
      "text/plain": [
       "                                  stadsdeel cl_type cluster_toewijzing  \\\n",
       "0  Centrum                                      vot                  0   \n",
       "2  Centrum                                      vot                  2   \n",
       "\n",
       "                                      geometry  landelijk_pnd_id  \\\n",
       "0  POINT (120216.8333333333 487100.6666666667)  0363100012170729   \n",
       "2                    POINT (120954.5 486682.5)  0363100012171597   \n",
       "\n",
       "                                            pnd_geom koop_huur  \n",
       "0  POLYGON ((120221.70204345 487100.363979464, 12...  Eigendom  \n",
       "2  POLYGON ((120960.240970247 486682.588022385, 1...  Eigendom  "
      ]
     },
     "execution_count": 68,
     "metadata": {},
     "output_type": "execute_result"
    }
   ],
   "source": [
    "bag_koop_clusters.head(2)"
   ]
  }
 ],
 "metadata": {
  "kernelspec": {
   "display_name": "Python 3",
   "language": "python",
   "name": "python3"
  },
  "language_info": {
   "codemirror_mode": {
    "name": "ipython",
    "version": 3
   },
   "file_extension": ".py",
   "mimetype": "text/x-python",
   "name": "python",
   "nbconvert_exporter": "python",
   "pygments_lexer": "ipython3",
   "version": "3.6.4"
  }
 },
 "nbformat": 4,
 "nbformat_minor": 2
}
