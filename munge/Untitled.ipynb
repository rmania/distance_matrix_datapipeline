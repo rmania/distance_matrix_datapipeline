{
 "cells": [
  {
   "cell_type": "code",
   "execution_count": 1,
   "metadata": {},
   "outputs": [
    {
     "name": "stdout",
     "output_type": "stream",
     "text": [
      "sections in YAML : path\n",
      "sections in YAML : file\n",
      "sections in YAML : file_stag_tables\n",
      "sections in YAML : distance_matrix_files\n",
      "sections in YAML : crs\n",
      "sections in YAML : afvalcontainers\n",
      "sections in YAML : dbscan_afvalcontainers\n",
      "sections in YAML : dbscan_vot\n",
      "sections in YAML : normen\n",
      "sections in YAML : vot_koop_huur\n",
      "sections in YAML : stadsdeel\n",
      "sections in YAML : buurtcombi\n"
     ]
    }
   ],
   "source": [
    "%matplotlib inline\n",
    "import matplotlib.pyplot as plt\n",
    "import pandas as pd\n",
    "pd.set_option('display.max_columns', 100)\n",
    "import numpy as np\n",
    "import geopandas as gpd\n",
    "import shapely.speedups\n",
    "shapely.speedups.enable()\n",
    "from shapely import wkt, wkb\n",
    "from shapely.geometry import Polygon, Point, LinearRing, MultiPoint\n",
    "from shapely.ops import nearest_points\n",
    "from tqdm import tqdm, tqdm_notebook\n",
    "\n",
    "#helper functions\n",
    "import sys\n",
    "sys.path.insert(0, '../helper_functions/')\n",
    "import wfs_processing as wfs\n",
    "import get_tables as get\n",
    "import distance_matrix as dm\n",
    "from logger_settings import logger\n",
    "logger = logger()\n",
    "\n",
    "import yaml\n",
    "with open(\"../config.yaml\", 'r') as config_yml:\n",
    "    try:\n",
    "        yml = yaml.load(config_yml)\n",
    "        for section in yml:\n",
    "            print('sections in YAML : {}'.format(section))\n",
    "    except yaml.YAMLError as exc:\n",
    "        print (exc)\n",
    "        \n",
    "PATH = '../data/pg_test/'"
   ]
  },
  {
   "cell_type": "code",
   "execution_count": 2,
   "metadata": {},
   "outputs": [
    {
     "name": "stderr",
     "output_type": "stream",
     "text": [
      "Thu, 20 Sep 2018 20:40:22 INFO     index has been reset\n",
      "Thu, 20 Sep 2018 20:40:22 INFO     Afvalcontainers_full df has shape: (12299, 5) and crs: {'init': 'epsg:28992'}\n"
     ]
    }
   ],
   "source": [
    "afval_full = get.get_afvalcontainers_full_df(column_subset=True)"
   ]
  },
  {
   "cell_type": "code",
   "execution_count": 3,
   "metadata": {},
   "outputs": [
    {
     "name": "stdout",
     "output_type": "stream",
     "text": [
      "shape input frame afval_full : (12299, 5)\n",
      "shape cluster_labels array: (12299,)\n",
      "num_clusters: 5598\n",
      "Clustered 12,299 afvalcontainers down to 5,598 inzamellocaties, for 54.48% compression in 1.41 sec.\n"
     ]
    }
   ],
   "source": [
    "afval_clusters = get.dbscan_reduce_afvalcontainers(afval_full)"
   ]
  },
  {
   "cell_type": "code",
   "execution_count": 4,
   "metadata": {},
   "outputs": [
    {
     "data": {
      "text/html": [
       "<div>\n",
       "<style scoped>\n",
       "    .dataframe tbody tr th:only-of-type {\n",
       "        vertical-align: middle;\n",
       "    }\n",
       "\n",
       "    .dataframe tbody tr th {\n",
       "        vertical-align: top;\n",
       "    }\n",
       "\n",
       "    .dataframe thead th {\n",
       "        text-align: right;\n",
       "    }\n",
       "</style>\n",
       "<table border=\"1\" class=\"dataframe\">\n",
       "  <thead>\n",
       "    <tr style=\"text-align: right;\">\n",
       "      <th></th>\n",
       "      <th>container_id</th>\n",
       "      <th>point_geom</th>\n",
       "      <th>fractie</th>\n",
       "      <th>cluster_toewijzing</th>\n",
       "      <th>geometry</th>\n",
       "    </tr>\n",
       "  </thead>\n",
       "  <tbody>\n",
       "    <tr>\n",
       "      <th>0</th>\n",
       "      <td>104319</td>\n",
       "      <td>POINT (119568.8149484682 486908.933835931)</td>\n",
       "      <td>Rest</td>\n",
       "      <td>0</td>\n",
       "      <td>POINT (119568.8149484682 486908.933835931)</td>\n",
       "    </tr>\n",
       "  </tbody>\n",
       "</table>\n",
       "</div>"
      ],
      "text/plain": [
       "  container_id                                  point_geom fractie  \\\n",
       "0       104319  POINT (119568.8149484682 486908.933835931)    Rest   \n",
       "\n",
       "   cluster_toewijzing                                    geometry  \n",
       "0                   0  POINT (119568.8149484682 486908.933835931)  "
      ]
     },
     "execution_count": 4,
     "metadata": {},
     "output_type": "execute_result"
    }
   ],
   "source": [
    "afval_clusters.head(1)"
   ]
  },
  {
   "cell_type": "code",
   "execution_count": 6,
   "metadata": {},
   "outputs": [],
   "source": [
    "PATH = '../data/pg_test/'\n",
    "afval_clusters.to_csv(PATH + 'afval_clusters.csv', index=False)"
   ]
  },
  {
   "cell_type": "markdown",
   "metadata": {},
   "source": [
    "### distance_koop_papier"
   ]
  },
  {
   "cell_type": "code",
   "execution_count": 7,
   "metadata": {},
   "outputs": [
    {
     "name": "stderr",
     "output_type": "stream",
     "text": [
      "Thu, 20 Sep 2018 21:00:40 INFO     GeoDataFrame has shape: (64095, 8) and crs: {'init': 'epsg:28992'}\n"
     ]
    }
   ],
   "source": [
    "distance_koop_papier = get.get_distance_matrices(path = yml['path']['distance_matrices'], \n",
    "                          file=yml['distance_matrix_files']['distance_koop_papier'])"
   ]
  },
  {
   "cell_type": "code",
   "execution_count": 8,
   "metadata": {},
   "outputs": [],
   "source": [
    "distance_koop_papier.to_csv(PATH + 'distance_koop_papier.csv', index=False)"
   ]
  },
  {
   "cell_type": "markdown",
   "metadata": {},
   "source": [
    "### distance_koop_rest"
   ]
  },
  {
   "cell_type": "code",
   "execution_count": 10,
   "metadata": {},
   "outputs": [
    {
     "name": "stderr",
     "output_type": "stream",
     "text": [
      "Thu, 20 Sep 2018 21:03:03 INFO     GeoDataFrame has shape: (64095, 8) and crs: {'init': 'epsg:28992'}\n"
     ]
    }
   ],
   "source": [
    "distance_koop_rest = get.get_distance_matrices(path = yml['path']['distance_matrices'], \n",
    "                          file=yml['distance_matrix_files']['distance_koop_rest'])"
   ]
  },
  {
   "cell_type": "code",
   "execution_count": 13,
   "metadata": {},
   "outputs": [],
   "source": [
    "distance_koop_rest.to_csv(PATH + 'distance_koop_rest.csv', index=False)"
   ]
  },
  {
   "cell_type": "markdown",
   "metadata": {},
   "source": [
    "### distance_koop_plastic"
   ]
  },
  {
   "cell_type": "code",
   "execution_count": 15,
   "metadata": {},
   "outputs": [
    {
     "name": "stderr",
     "output_type": "stream",
     "text": [
      "Thu, 20 Sep 2018 21:04:51 INFO     GeoDataFrame has shape: (64095, 8) and crs: {'init': 'epsg:28992'}\n"
     ]
    }
   ],
   "source": [
    "distance_koop_plastic = get.get_distance_matrices(path = yml['path']['distance_matrices'], \n",
    "                          file=yml['distance_matrix_files']['distance_koop_plastic'])"
   ]
  },
  {
   "cell_type": "code",
   "execution_count": 17,
   "metadata": {},
   "outputs": [],
   "source": [
    "distance_koop_plastic.to_csv(PATH + 'distance_koop_plastic.csv', index=False)"
   ]
  },
  {
   "cell_type": "markdown",
   "metadata": {},
   "source": [
    "### distance_koop_textiel"
   ]
  },
  {
   "cell_type": "code",
   "execution_count": 18,
   "metadata": {},
   "outputs": [
    {
     "name": "stderr",
     "output_type": "stream",
     "text": [
      "Thu, 20 Sep 2018 21:05:42 INFO     GeoDataFrame has shape: (64095, 8) and crs: {'init': 'epsg:28992'}\n"
     ]
    }
   ],
   "source": [
    "distance_koop_textiel = get.get_distance_matrices(path = yml['path']['distance_matrices'], \n",
    "                          file=yml['distance_matrix_files']['distance_koop_textiel'])"
   ]
  },
  {
   "cell_type": "code",
   "execution_count": 20,
   "metadata": {},
   "outputs": [],
   "source": [
    "distance_koop_textiel.to_csv(PATH + 'distance_koop_textiel.csv', index=False)"
   ]
  },
  {
   "cell_type": "markdown",
   "metadata": {},
   "source": [
    "# HUUR"
   ]
  },
  {
   "cell_type": "markdown",
   "metadata": {},
   "source": [
    "### distance_huur_rest"
   ]
  },
  {
   "cell_type": "code",
   "execution_count": 25,
   "metadata": {},
   "outputs": [
    {
     "name": "stderr",
     "output_type": "stream",
     "text": [
      "Thu, 20 Sep 2018 21:09:51 INFO     GeoDataFrame has shape: (111362, 8) and crs: {'init': 'epsg:28992'}\n"
     ]
    }
   ],
   "source": [
    "distance_huur_rest = get.get_distance_matrices(path = yml['path']['distance_matrices'], \n",
    "                          file=yml['distance_matrix_files']['distance_huur_rest'])"
   ]
  },
  {
   "cell_type": "code",
   "execution_count": 27,
   "metadata": {},
   "outputs": [],
   "source": [
    "distance_huur_rest.to_csv(PATH + 'distance_huur_rest.csv', index=False)"
   ]
  },
  {
   "cell_type": "markdown",
   "metadata": {},
   "source": [
    "### distance_huur_glas"
   ]
  },
  {
   "cell_type": "code",
   "execution_count": 28,
   "metadata": {},
   "outputs": [
    {
     "name": "stderr",
     "output_type": "stream",
     "text": [
      "Thu, 20 Sep 2018 21:11:44 INFO     GeoDataFrame has shape: (111362, 8) and crs: {'init': 'epsg:28992'}\n"
     ]
    }
   ],
   "source": [
    "distance_huur_glas = get.get_distance_matrices(path = yml['path']['distance_matrices'], \n",
    "                          file=yml['distance_matrix_files']['distance_huur_glas'])"
   ]
  },
  {
   "cell_type": "code",
   "execution_count": 29,
   "metadata": {},
   "outputs": [],
   "source": [
    "distance_huur_glas.to_csv(PATH + 'distance_huur_glas.csv', index=False)"
   ]
  },
  {
   "cell_type": "markdown",
   "metadata": {},
   "source": [
    "### distance_huur_papier"
   ]
  },
  {
   "cell_type": "code",
   "execution_count": 30,
   "metadata": {},
   "outputs": [
    {
     "name": "stderr",
     "output_type": "stream",
     "text": [
      "Thu, 20 Sep 2018 21:12:30 INFO     GeoDataFrame has shape: (111362, 8) and crs: {'init': 'epsg:28992'}\n"
     ]
    }
   ],
   "source": [
    "distance_huur_papier = get.get_distance_matrices(path = yml['path']['distance_matrices'], \n",
    "                          file=yml['distance_matrix_files']['distance_huur_papier'])"
   ]
  },
  {
   "cell_type": "code",
   "execution_count": 31,
   "metadata": {},
   "outputs": [],
   "source": [
    "distance_huur_papier.to_csv(PATH + 'distance_huur_papier.csv', index=False)"
   ]
  },
  {
   "cell_type": "markdown",
   "metadata": {},
   "source": [
    "### distance_huur_plastic"
   ]
  },
  {
   "cell_type": "code",
   "execution_count": 32,
   "metadata": {},
   "outputs": [
    {
     "name": "stderr",
     "output_type": "stream",
     "text": [
      "Thu, 20 Sep 2018 21:14:25 INFO     GeoDataFrame has shape: (111362, 8) and crs: {'init': 'epsg:28992'}\n"
     ]
    }
   ],
   "source": [
    "distance_huur_plastic = get.get_distance_matrices(path = yml['path']['distance_matrices'], \n",
    "                          file=yml['distance_matrix_files']['distance_huur_plastic'])"
   ]
  },
  {
   "cell_type": "code",
   "execution_count": 33,
   "metadata": {},
   "outputs": [],
   "source": [
    "distance_huur_plastic.to_csv(PATH + 'distance_huur_plastic.csv', index=False)"
   ]
  },
  {
   "cell_type": "markdown",
   "metadata": {},
   "source": [
    "### distance_huur_textiel"
   ]
  },
  {
   "cell_type": "code",
   "execution_count": 34,
   "metadata": {},
   "outputs": [
    {
     "name": "stderr",
     "output_type": "stream",
     "text": [
      "Thu, 20 Sep 2018 21:15:10 INFO     GeoDataFrame has shape: (111362, 8) and crs: {'init': 'epsg:28992'}\n"
     ]
    }
   ],
   "source": [
    "distance_huur_textiel = get.get_distance_matrices(path = yml['path']['distance_matrices'], \n",
    "                          file=yml['distance_matrix_files']['distance_huur_textiel'])"
   ]
  },
  {
   "cell_type": "code",
   "execution_count": 35,
   "metadata": {},
   "outputs": [],
   "source": [
    "distance_huur_textiel.to_csv(PATH + 'distance_huur_textiel.csv', index=False)"
   ]
  },
  {
   "cell_type": "markdown",
   "metadata": {},
   "source": [
    "### OBA"
   ]
  },
  {
   "cell_type": "code",
   "execution_count": 36,
   "metadata": {},
   "outputs": [
    {
     "name": "stderr",
     "output_type": "stream",
     "text": [
      "Thu, 20 Sep 2018 21:42:40 INFO     Loading oba_vestigingen.csv GeoDataFrame, with shape: (29, 16) and crs: {'init': 'epsg:28992'}\n",
      "Thu, 20 Sep 2018 21:42:40 INFO     Requesting data from https://map.data.amsterdam.nl/maps/gebieden, layer: stadsdeel\n",
      "Thu, 20 Sep 2018 21:42:41 INFO     8 features returned.\n",
      "Thu, 20 Sep 2018 21:42:41 INFO     Spatial join of oba_vestigingen.csv GeoDataFrame and Amsterdam district layer.     Added columns : ['sd_code', 'geometry', 'sd_id', 'sd_name']\n",
      "Thu, 20 Sep 2018 21:42:41 INFO     created 2000 meter buffer around MultiPoint geometry\n"
     ]
    },
    {
     "data": {
      "image/png": "[encoded data removed]",
      "text/plain": [
       "<Figure size 1080x504 with 1 Axes>"
      ]
     },
     "metadata": {},
     "output_type": "display_data"
    }
   ],
   "source": [
    "oba = get.get_df2(path = yml['path']['data_path_poi2'], file=yml['file']['oba'])"
   ]
  },
  {
   "cell_type": "code",
   "execution_count": 38,
   "metadata": {},
   "outputs": [],
   "source": [
    "keep_cols = [ 'id','geometry', 'sd_name', 'buffer']\n",
    "oba = oba[keep_cols]"
   ]
  },
  {
   "cell_type": "code",
   "execution_count": 39,
   "metadata": {},
   "outputs": [
    {
     "data": {
      "text/html": [
       "<div>\n",
       "<style scoped>\n",
       "    .dataframe tbody tr th:only-of-type {\n",
       "        vertical-align: middle;\n",
       "    }\n",
       "\n",
       "    .dataframe tbody tr th {\n",
       "        vertical-align: top;\n",
       "    }\n",
       "\n",
       "    .dataframe thead th {\n",
       "        text-align: right;\n",
       "    }\n",
       "</style>\n",
       "<table border=\"1\" class=\"dataframe\">\n",
       "  <thead>\n",
       "    <tr style=\"text-align: right;\">\n",
       "      <th></th>\n",
       "      <th>id</th>\n",
       "      <th>geometry</th>\n",
       "      <th>sd_name</th>\n",
       "      <th>buffer</th>\n",
       "    </tr>\n",
       "  </thead>\n",
       "  <tbody>\n",
       "    <tr>\n",
       "      <th>0</th>\n",
       "      <td>1</td>\n",
       "      <td>(POINT (122605 488985))</td>\n",
       "      <td>Noord</td>\n",
       "      <td>POLYGON ((124605 488985, 124595.3694533444 488...</td>\n",
       "    </tr>\n",
       "  </tbody>\n",
       "</table>\n",
       "</div>"
      ],
      "text/plain": [
       "  id                 geometry sd_name  \\\n",
       "0  1  (POINT (122605 488985))   Noord   \n",
       "\n",
       "                                              buffer  \n",
       "0  POLYGON ((124605 488985, 124595.3694533444 488...  "
      ]
     },
     "execution_count": 39,
     "metadata": {},
     "output_type": "execute_result"
    }
   ],
   "source": [
    "oba.head(1)"
   ]
  },
  {
   "cell_type": "code",
   "execution_count": 40,
   "metadata": {},
   "outputs": [],
   "source": [
    "oba.to_csv(PATH + 'oba.csv', index=False)"
   ]
  },
  {
   "cell_type": "markdown",
   "metadata": {},
   "source": [
    "### AH"
   ]
  },
  {
   "cell_type": "code",
   "execution_count": 44,
   "metadata": {},
   "outputs": [
    {
     "name": "stderr",
     "output_type": "stream",
     "text": [
      "Thu, 20 Sep 2018 21:48:20 INFO     Loading ah_vestigingen.csv GeoDataFrame, with shape: (75, 17) and crs: {'init': 'epsg:28992'}\n",
      "Thu, 20 Sep 2018 21:48:20 INFO     Requesting data from https://map.data.amsterdam.nl/maps/gebieden, layer: stadsdeel\n",
      "Thu, 20 Sep 2018 21:48:20 INFO     8 features returned.\n",
      "Thu, 20 Sep 2018 21:48:20 INFO     Spatial join of ah_vestigingen.csv GeoDataFrame and Amsterdam district layer.     Added columns : ['sd_code', 'geometry', 'sd_id', 'sd_name']\n",
      "Thu, 20 Sep 2018 21:48:20 INFO     created 1000 meter buffer around Point geometry\n"
     ]
    },
    {
     "data": {
      "image/png": "[encoded data removed]",
      "text/plain": [
       "<Figure size 1080x504 with 1 Axes>"
      ]
     },
     "metadata": {},
     "output_type": "display_data"
    }
   ],
   "source": [
    "ah = get.get_df2(path = yml['path']['data_path_poi2'], file=yml['file']['ah'])"
   ]
  },
  {
   "cell_type": "code",
   "execution_count": 45,
   "metadata": {},
   "outputs": [
    {
     "data": {
      "text/html": [
       "<div>\n",
       "<style scoped>\n",
       "    .dataframe tbody tr th:only-of-type {\n",
       "        vertical-align: middle;\n",
       "    }\n",
       "\n",
       "    .dataframe tbody tr th {\n",
       "        vertical-align: top;\n",
       "    }\n",
       "\n",
       "    .dataframe thead th {\n",
       "        text-align: right;\n",
       "    }\n",
       "</style>\n",
       "<table border=\"1\" class=\"dataframe\">\n",
       "  <thead>\n",
       "    <tr style=\"text-align: right;\">\n",
       "      <th></th>\n",
       "      <th>id</th>\n",
       "      <th>geometry</th>\n",
       "      <th>functie2_o</th>\n",
       "      <th>zaaknaam</th>\n",
       "      <th>functie2_e</th>\n",
       "      <th>functie1_i</th>\n",
       "      <th>functie1_o</th>\n",
       "      <th>functie1_e</th>\n",
       "      <th>functie2_i</th>\n",
       "      <th>laag</th>\n",
       "      <th>adressen_l</th>\n",
       "      <th>adressen_v</th>\n",
       "      <th>adressen_a</th>\n",
       "      <th>oppervlakt</th>\n",
       "      <th>oppervla_1</th>\n",
       "      <th>checkdatum</th>\n",
       "      <th>zaak_id</th>\n",
       "      <th>index_right</th>\n",
       "      <th>sd_code</th>\n",
       "      <th>sd_id</th>\n",
       "      <th>sd_name</th>\n",
       "      <th>buffer</th>\n",
       "    </tr>\n",
       "  </thead>\n",
       "  <tbody>\n",
       "    <tr>\n",
       "      <th>0</th>\n",
       "      <td>1</td>\n",
       "      <td>POINT (119371.6738817311 486146.2438925233)</td>\n",
       "      <td>Supermarkt groot</td>\n",
       "      <td>ALBERT HEIJN</td>\n",
       "      <td>Supermarket large</td>\n",
       "      <td>D</td>\n",
       "      <td>Detailhandel</td>\n",
       "      <td>Retail</td>\n",
       "      <td>D03</td>\n",
       "      <td>1</td>\n",
       "      <td>Jan Pieter Heijestraat 142/H - 829 m2&lt;br&gt;Wilhe...</td>\n",
       "      <td>03630011872290-03630000870092</td>\n",
       "      <td>2</td>\n",
       "      <td>865</td>\n",
       "      <td>0</td>\n",
       "      <td>2017-03-10</td>\n",
       "      <td>5311</td>\n",
       "      <td>4</td>\n",
       "      <td>E</td>\n",
       "      <td>03630011872036</td>\n",
       "      <td>West</td>\n",
       "      <td>POLYGON ((120371.6738817311 486146.2438925233,...</td>\n",
       "    </tr>\n",
       "  </tbody>\n",
       "</table>\n",
       "</div>"
      ],
      "text/plain": [
       "  id                                     geometry        functie2_o  \\\n",
       "0  1  POINT (119371.6738817311 486146.2438925233)  Supermarkt groot   \n",
       "\n",
       "       zaaknaam         functie2_e functie1_i    functie1_o functie1_e  \\\n",
       "0  ALBERT HEIJN  Supermarket large          D  Detailhandel     Retail   \n",
       "\n",
       "  functie2_i laag                                         adressen_l  \\\n",
       "0        D03    1  Jan Pieter Heijestraat 142/H - 829 m2<br>Wilhe...   \n",
       "\n",
       "                      adressen_v adressen_a oppervlakt oppervla_1  checkdatum  \\\n",
       "0  03630011872290-03630000870092          2        865          0  2017-03-10   \n",
       "\n",
       "  zaak_id  index_right sd_code           sd_id sd_name  \\\n",
       "0    5311            4       E  03630011872036    West   \n",
       "\n",
       "                                              buffer  \n",
       "0  POLYGON ((120371.6738817311 486146.2438925233,...  "
      ]
     },
     "execution_count": 45,
     "metadata": {},
     "output_type": "execute_result"
    }
   ],
   "source": [
    "ah.head(1)"
   ]
  },
  {
   "cell_type": "code",
   "execution_count": 47,
   "metadata": {},
   "outputs": [],
   "source": [
    "keep_cols = [ 'id','geometry', 'sd_name', 'buffer']\n",
    "ah = ah[keep_cols]\n",
    "\n",
    "ah.to_csv(PATH + 'ah.csv', index=False)"
   ]
  },
  {
   "cell_type": "markdown",
   "metadata": {},
   "source": [
    "### distance_oba_18 frame"
   ]
  },
  {
   "cell_type": "code",
   "execution_count": 3,
   "metadata": {},
   "outputs": [],
   "source": [
    "distance_18_oba = pd.read_csv(yml['path']['distance_matrices'] + 'distance_oba_18.csv')"
   ]
  },
  {
   "cell_type": "code",
   "execution_count": 7,
   "metadata": {},
   "outputs": [],
   "source": [
    "distance_18_oba = distance_18_oba.dropna(subset = ['pnd_dist_mean'])"
   ]
  },
  {
   "cell_type": "code",
   "execution_count": 24,
   "metadata": {},
   "outputs": [],
   "source": [
    "distance_18_oba.to_csv(PATH + 'distance_oba_18.csv', index=False)"
   ]
  },
  {
   "cell_type": "code",
   "execution_count": 23,
   "metadata": {},
   "outputs": [
    {
     "data": {
      "text/html": [
       "<div>\n",
       "<style scoped>\n",
       "    .dataframe tbody tr th:only-of-type {\n",
       "        vertical-align: middle;\n",
       "    }\n",
       "\n",
       "    .dataframe tbody tr th {\n",
       "        vertical-align: top;\n",
       "    }\n",
       "\n",
       "    .dataframe thead th {\n",
       "        text-align: right;\n",
       "    }\n",
       "</style>\n",
       "<table border=\"1\" class=\"dataframe\">\n",
       "  <thead>\n",
       "    <tr style=\"text-align: right;\">\n",
       "      <th></th>\n",
       "      <th>landelijk_pnd_id</th>\n",
       "      <th>geometry</th>\n",
       "      <th>geom_point</th>\n",
       "      <th>cluster_toewijzing</th>\n",
       "      <th>distance_min</th>\n",
       "      <th>distance_max</th>\n",
       "      <th>distance_mean</th>\n",
       "      <th>_merge</th>\n",
       "      <th>pnd_dist_mean</th>\n",
       "    </tr>\n",
       "  </thead>\n",
       "  <tbody>\n",
       "    <tr>\n",
       "      <th>196</th>\n",
       "      <td>363100012169670</td>\n",
       "      <td>POLYGON ((120794.890984315 488269.456863448, 1...</td>\n",
       "      <td>POINT (120793 488267)</td>\n",
       "      <td>1</td>\n",
       "      <td>885</td>\n",
       "      <td>1953</td>\n",
       "      <td>1482</td>\n",
       "      <td>both</td>\n",
       "      <td>885.0</td>\n",
       "    </tr>\n",
       "  </tbody>\n",
       "</table>\n",
       "</div>"
      ],
      "text/plain": [
       "    landelijk_pnd_id                                           geometry  \\\n",
       "196  363100012169670  POLYGON ((120794.890984315 488269.456863448, 1...   \n",
       "\n",
       "                geom_point  cluster_toewijzing  distance_min  distance_max  \\\n",
       "196  POINT (120793 488267)                   1           885          1953   \n",
       "\n",
       "     distance_mean _merge  pnd_dist_mean  \n",
       "196           1482   both          885.0  "
      ]
     },
     "execution_count": 23,
     "metadata": {},
     "output_type": "execute_result"
    }
   ],
   "source": [
    "distance_18_oba.head(1)"
   ]
  },
  {
   "cell_type": "code",
   "execution_count": 22,
   "metadata": {},
   "outputs": [
    {
     "name": "stderr",
     "output_type": "stream",
     "text": [
      "/home/diederik/anaconda3/lib/python3.6/site-packages/pandas/core/generic.py:4405: SettingWithCopyWarning: \n",
      "A value is trying to be set on a copy of a slice from a DataFrame.\n",
      "Try using .loc[row_indexer,col_indexer] = value instead\n",
      "\n",
      "See the caveats in the documentation: http://pandas.pydata.org/pandas-docs/stable/indexing.html#indexing-view-versus-copy\n",
      "  self[name] = value\n"
     ]
    }
   ],
   "source": [
    "distance_18_oba.landelijk_pnd_id = distance_18_oba.landelijk_pnd_id.astype(str)"
   ]
  },
  {
   "cell_type": "markdown",
   "metadata": {},
   "source": [
    "### vot65_rest"
   ]
  },
  {
   "cell_type": "code",
   "execution_count": 2,
   "metadata": {},
   "outputs": [],
   "source": [
    "distance_vot65_rest = pd.read_csv(yml['path']['distance_matrices'] + 'distance_vot65_rest.csv')"
   ]
  },
  {
   "cell_type": "code",
   "execution_count": 3,
   "metadata": {},
   "outputs": [
    {
     "data": {
      "text/html": [
       "<div>\n",
       "<style scoped>\n",
       "    .dataframe tbody tr th:only-of-type {\n",
       "        vertical-align: middle;\n",
       "    }\n",
       "\n",
       "    .dataframe tbody tr th {\n",
       "        vertical-align: top;\n",
       "    }\n",
       "\n",
       "    .dataframe thead th {\n",
       "        text-align: right;\n",
       "    }\n",
       "</style>\n",
       "<table border=\"1\" class=\"dataframe\">\n",
       "  <thead>\n",
       "    <tr style=\"text-align: right;\">\n",
       "      <th></th>\n",
       "      <th>landelijk_pnd_id</th>\n",
       "      <th>geometry</th>\n",
       "      <th>geom_point</th>\n",
       "      <th>cluster_toewijzing</th>\n",
       "      <th>distance_min</th>\n",
       "      <th>distance_max</th>\n",
       "      <th>distance_mean</th>\n",
       "      <th>_merge</th>\n",
       "      <th>pnd_dist_mean</th>\n",
       "    </tr>\n",
       "  </thead>\n",
       "  <tbody>\n",
       "    <tr>\n",
       "      <th>0</th>\n",
       "      <td>NaN</td>\n",
       "      <td>POLYGON ((123293.328736704 486836.246010649, 1...</td>\n",
       "      <td>POINT (123300.5543658813 486834.5533001287)</td>\n",
       "      <td>153147</td>\n",
       "      <td>149</td>\n",
       "      <td>0.149234</td>\n",
       "      <td>0.149234</td>\n",
       "      <td>both</td>\n",
       "      <td>NaN</td>\n",
       "    </tr>\n",
       "  </tbody>\n",
       "</table>\n",
       "</div>"
      ],
      "text/plain": [
       "   landelijk_pnd_id                                           geometry  \\\n",
       "0               NaN  POLYGON ((123293.328736704 486836.246010649, 1...   \n",
       "\n",
       "                                    geom_point  cluster_toewijzing  \\\n",
       "0  POINT (123300.5543658813 486834.5533001287)              153147   \n",
       "\n",
       "   distance_min  distance_max  distance_mean _merge  pnd_dist_mean  \n",
       "0           149      0.149234       0.149234   both            NaN  "
      ]
     },
     "execution_count": 3,
     "metadata": {},
     "output_type": "execute_result"
    }
   ],
   "source": [
    "distance_vot65_rest.head(1)"
   ]
  },
  {
   "cell_type": "code",
   "execution_count": 4,
   "metadata": {},
   "outputs": [],
   "source": [
    "distance_vot65_rest.to_csv(PATH + 'distance_vot65_rest.csv', index=False)"
   ]
  },
  {
   "cell_type": "markdown",
   "metadata": {},
   "source": [
    "### vot_all_ah"
   ]
  },
  {
   "cell_type": "code",
   "execution_count": 3,
   "metadata": {},
   "outputs": [],
   "source": [
    "distance_vot_all_ah = pd.read_csv(yml['path']['distance_matrices'] + 'distance_vot_all_ah.csv')"
   ]
  },
  {
   "cell_type": "code",
   "execution_count": 7,
   "metadata": {},
   "outputs": [
    {
     "data": {
      "text/html": [
       "<div>\n",
       "<style scoped>\n",
       "    .dataframe tbody tr th:only-of-type {\n",
       "        vertical-align: middle;\n",
       "    }\n",
       "\n",
       "    .dataframe tbody tr th {\n",
       "        vertical-align: top;\n",
       "    }\n",
       "\n",
       "    .dataframe thead th {\n",
       "        text-align: right;\n",
       "    }\n",
       "</style>\n",
       "<table border=\"1\" class=\"dataframe\">\n",
       "  <thead>\n",
       "    <tr style=\"text-align: right;\">\n",
       "      <th></th>\n",
       "      <th>landelijk_pnd_id</th>\n",
       "      <th>geometry</th>\n",
       "      <th>geom_point</th>\n",
       "      <th>cluster_toewijzing</th>\n",
       "      <th>distance_min</th>\n",
       "      <th>distance_max</th>\n",
       "      <th>distance_mean</th>\n",
       "      <th>_merge</th>\n",
       "      <th>pnd_dist_mean</th>\n",
       "    </tr>\n",
       "  </thead>\n",
       "  <tbody>\n",
       "    <tr>\n",
       "      <th>0</th>\n",
       "      <td>3.631000e+14</td>\n",
       "      <td>POLYGON ((120221.70204345 487100.363979464, 12...</td>\n",
       "      <td>POINT (120216.8333333333 487100.6666666667)</td>\n",
       "      <td>0</td>\n",
       "      <td>376</td>\n",
       "      <td>950</td>\n",
       "      <td>665</td>\n",
       "      <td>both</td>\n",
       "      <td>376.0</td>\n",
       "    </tr>\n",
       "  </tbody>\n",
       "</table>\n",
       "</div>"
      ],
      "text/plain": [
       "   landelijk_pnd_id                                           geometry  \\\n",
       "0      3.631000e+14  POLYGON ((120221.70204345 487100.363979464, 12...   \n",
       "\n",
       "                                    geom_point  cluster_toewijzing  \\\n",
       "0  POINT (120216.8333333333 487100.6666666667)                   0   \n",
       "\n",
       "   distance_min  distance_max  distance_mean _merge  pnd_dist_mean  \n",
       "0           376           950            665   both          376.0  "
      ]
     },
     "execution_count": 7,
     "metadata": {},
     "output_type": "execute_result"
    }
   ],
   "source": [
    "distance_vot_all_ah.head(1)"
   ]
  },
  {
   "cell_type": "code",
   "execution_count": 8,
   "metadata": {},
   "outputs": [],
   "source": [
    "distance_vot_all_ah.to_csv(PATH + 'distance_vot_all_ah.csv', index=False)"
   ]
  }
 ],
 "metadata": {
  "kernelspec": {
   "display_name": "Python 3",
   "language": "python",
   "name": "python3"
  },
  "language_info": {
   "codemirror_mode": {
    "name": "ipython",
    "version": 3
   },
   "file_extension": ".py",
   "mimetype": "text/x-python",
   "name": "python",
   "nbconvert_exporter": "python",
   "pygments_lexer": "ipython3",
   "version": "3.6.4"
  }
 },
 "nbformat": 4,
 "nbformat_minor": 2
}
